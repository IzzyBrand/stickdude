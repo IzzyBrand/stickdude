{
 "cells": [
  {
   "cell_type": "markdown",
   "metadata": {},
   "source": [
    "This notebook calculates the equations of motion for a compound pendulum (ie not just a point mass)\n",
    "and simulates the dynamics using `scipy.odient`. The pendulum is modeled as a uniform density rod with friction at the pivot. \n",
    "\n",
    "This notebook is loosely based on [this article](http://nbviewer.jupyter.org/github/pydy/pydy/blob/master/examples/differential_drive/Differential%20Drive.ipynb)\n",
    "and I looked at [the sympy test cases for more examples of using LagrangesMethod](https://github.com/sympy/sympy/blob/master/sympy/physics/mechanics/tests/test_lagrange.py)."
   ]
  },
  {
   "cell_type": "code",
   "execution_count": 1,
   "metadata": {},
   "outputs": [],
   "source": [
    "import matplotlib.pyplot as plt\n",
    "import numpy as np\n",
    "from scipy.integrate import odeint\n",
    "from sympy import symbols, lambdify, Dummy, integrate\n",
    "from sympy.physics.mechanics import *\n",
    "\n",
    "%matplotlib inline\n",
    "init_vprinting()"
   ]
  },
  {
   "cell_type": "code",
   "execution_count": 2,
   "metadata": {},
   "outputs": [],
   "source": [
    "m = symbols('m')   # mass of the pendulum\n",
    "l = symbols('l')   # length of the pendulum\n",
    "g = symbols('g')   # acceleration due to gravity\n",
    "mu = symbols('mu') # coefficient of friction\n",
    "\n",
    "q = dynamicsymbols('theta') # q is the state vector\n",
    "dq = q.diff() # and dq is the velocity"
   ]
  },
  {
   "cell_type": "code",
   "execution_count": 3,
   "metadata": {},
   "outputs": [
    {
     "data": {
      "image/png": "[encoded data removed]",
      "text/latex": [
       "$$0.5 l \\dot{\\theta}\\mathbf{\\hat{r}_y}$$"
      ],
      "text/plain": [
       "0.5⋅l⋅θ̇ r_y"
      ]
     },
     "execution_count": 3,
     "metadata": {},
     "output_type": "execute_result"
    }
   ],
   "source": [
    "N = ReferenceFrame('N') # Inertial Reference Frame\n",
    "O = Point('O') # Define a world coordinate origin\n",
    "O.set_vel(N, 0) # set the velocity of the origin to zero in the world frame\n",
    "\n",
    "# create a reference frame for the pendulum\n",
    "R = N.orientnew('R', 'Axis', [q, N.z])\n",
    "R.set_ang_vel(N, dq*N.z) # set the angular velocity of R to dq\n",
    "\n",
    "# define a point for the center of mass of the pendulum\n",
    "C = O.locatenew('C', R.x*l/2.)\n",
    "C.v2pt_theory(O, N, R) # solve for and set the velocity of C"
   ]
  },
  {
   "cell_type": "code",
   "execution_count": 4,
   "metadata": {},
   "outputs": [],
   "source": [
    "# the force of friction acts on the pendulums reference frame and is proportional to dq\n",
    "force_of_friction = (R, -dq*mu*R.z)\n",
    "\n",
    "# calculate the inertia (modeled as a uniform density stick rotating at the end)\n",
    "# integrate the density (m/l) time the radius squared along the length of the segment\n",
    "x = symbols('x')\n",
    "I_component = integrate(x**2 * m/l, (x, 0, l))\n",
    "# the pendulum is a 3d model, but has no Ixx inertia because it's zero diamter\n",
    "I = inertia(R, 0, I_component, I_component)\n",
    "\n",
    "# and define a rigid body for the segment\n",
    "segment = RigidBody('Segment', C, R, m, (I , O))\n",
    "\n",
    "# calculate the potential energy of the segment\n",
    "h = (C.pos_from(O)).express(N).args[0][0][0]\n",
    "segment.potential_energy = m*g*h"
   ]
  },
  {
   "cell_type": "code",
   "execution_count": 5,
   "metadata": {},
   "outputs": [],
   "source": [
    "L = Lagrangian(N, segment) # create the lagrangian L = T - V\n",
    "lm = LagrangesMethod(L, [q], forcelist=[force_of_friction], frame=N)\n",
    "le = lm.form_lagranges_equations()\n",
    "rhs = lm.rhs() # extract the right hand side"
   ]
  },
  {
   "cell_type": "code",
   "execution_count": 6,
   "metadata": {},
   "outputs": [
    {
     "data": {
      "image/png": "[encoded data removed]",
      "text/latex": [
       "$$\\left[\\begin{matrix}\\dot{\\theta}\\\\\\frac{3.0}{l^{2} m} \\left(0.5 g l m \\operatorname{sin}\\left(\\theta\\right) - \\mu \\dot{\\theta}\\right)\\end{matrix}\\right]$$"
      ],
      "text/plain": [
       "⎡             θ̇              ⎤\n",
       "⎢                             ⎥\n",
       "⎢3.0⋅(0.5⋅g⋅l⋅m⋅sin(θ) - μ⋅θ̇)⎥\n",
       "⎢─────────────────────────────⎥\n",
       "⎢              2              ⎥\n",
       "⎣             l ⋅m            ⎦"
      ]
     },
     "execution_count": 6,
     "metadata": {},
     "output_type": "execute_result"
    }
   ],
   "source": [
    "# take a look at the resulting equations of motion. theta changes with angular velocity\n",
    "# (theta_dot), and the angular velocity changes as a function of the current angle,\n",
    "# (force from gravity) and with the current angular velocity (force from friction)\n",
    "rhs"
   ]
  },
  {
   "cell_type": "code",
   "execution_count": 7,
   "metadata": {
    "scrolled": false
   },
   "outputs": [],
   "source": [
    "class RHSWrapper():\n",
    "    def __init__(self, rhs, dynamics, params=[], values=[]):\n",
    "        self.rhs = rhs\n",
    "        self.dynamics = dynamics\n",
    "        self.params = params\n",
    "        self.values = values\n",
    "        \n",
    "        # substitute dummy variables into the equations of motion for later evaluation\n",
    "        self._dummys = [Dummy() for i in self.dynamics]\n",
    "        self._dummy_dict = dict(zip(self.dynamics, self._dummys))\n",
    "        self._dummy_rhs = msubs(self.rhs, self._dummy_dict)\n",
    "        \n",
    "        # create a function to evaluate the right hand side\n",
    "        self._rhs_func = lambdify(list(self._dummys) + list(self.params), self._dummy_rhs)\n",
    "    \n",
    "    def step(self, x, t, values=None):\n",
    "        # use the input values if provided, else use the stored values\n",
    "        v = self.values if values is None else values\n",
    "        assert len(v) == len(self.params)\n",
    "        \n",
    "        # the returned values must be a flat array for odient\n",
    "        args = np.hstack([x, v])\n",
    "        return np.ravel(np.array(self._rhs_func(*args)))"
   ]
  },
  {
   "cell_type": "code",
   "execution_count": 8,
   "metadata": {},
   "outputs": [
    {
     "data": {
      "text/plain": [
       "<matplotlib.text.Text at 0x11232d510>"
      ]
     },
     "execution_count": 8,
     "metadata": {},
     "output_type": "execute_result"
    },
    {
     "data": {
      "image/png": "[encoded data removed]",
      "text/plain": [
       "<matplotlib.figure.Figure at 0x112229550>"
      ]
     },
     "metadata": {},
     "output_type": "display_data"
    }
   ],
   "source": [
    "# RHSWrapper handles evaluating the dynamics model \n",
    "f = RHSWrapper(rhs, [q, dq],\n",
    "               [m, l,    g,  mu], # params\n",
    "               [1, 1, -9.8, 0.1]) # values\n",
    "\n",
    "ts = np.linspace(0, 30, 3000) # time steps (milliseconds)\n",
    "x0 = [0.1, 0] # initial condition\n",
    "xs = odeint(f.step, x0, ts) # run the simulation\n",
    "\n",
    "plt.plot(ts, xs[:,0], label=\"Angle\")\n",
    "plt.plot(ts, xs[:,1], label=\"Angular Velocity\")   \n",
    "plt.legend()\n",
    "plt.title('Pendulum Angle')\n",
    "plt.xlabel('t')\n",
    "plt.ylabel('theta')"
   ]
  }
 ],
 "metadata": {
  "kernelspec": {
   "display_name": "Python 2",
   "language": "python",
   "name": "python2"
  },
  "language_info": {
   "codemirror_mode": {
    "name": "ipython",
    "version": 2
   },
   "file_extension": ".py",
   "mimetype": "text/x-python",
   "name": "python",
   "nbconvert_exporter": "python",
   "pygments_lexer": "ipython2",
   "version": "2.7.13"
  }
 },
 "nbformat": 4,
 "nbformat_minor": 2
}
