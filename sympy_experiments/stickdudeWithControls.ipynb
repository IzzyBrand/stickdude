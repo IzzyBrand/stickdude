{
 "cells": [
  {
   "cell_type": "markdown",
   "metadata": {},
   "source": [
    "This notebook calculates the equations of motion for a multi-link compound pendulum (ie not just a point mass)\n",
    "and simulates the dynamics using `scipy.odient`. The pendulum is modeled as a uniform density rod with friction at the pivot. \n",
    "\n",
    "Matplotlib is used to generate images which are can then be combined into an animation.\n",
    "\n",
    "This notebook is loosely based on [this article](http://nbviewer.jupyter.org/github/pydy/pydy/blob/master/examples/differential_drive/Differential%20Drive.ipynb)\n",
    "and I looked at [the sympy test cases for more examples of using LagrangesMethod](https://github.com/sympy/sympy/blob/master/sympy/physics/mechanics/tests/test_lagrange.py)."
   ]
  },
  {
   "cell_type": "code",
   "execution_count": 1,
   "metadata": {},
   "outputs": [],
   "source": [
    "import cPickle as pkl\n",
    "import matplotlib.pyplot as plt\n",
    "import numpy as np\n",
    "import os\n",
    "from scipy.integrate import odeint\n",
    "from sympy import symbols, lambdify, Dummy, integrate, Matrix, simplify\n",
    "from sympy.physics.mechanics import *\n",
    "\n",
    "%matplotlib inline\n",
    "init_vprinting()"
   ]
  },
  {
   "cell_type": "code",
   "execution_count": 2,
   "metadata": {},
   "outputs": [],
   "source": [
    "m = symbols('m:3')          # mass of the pendulum\n",
    "l = symbols('l:3')          # length of the pendulum\n",
    "g = symbols('g')            # acceleration due to gravity\n",
    "mu = symbols('mu:3')        # coefficient of friction\n",
    "T = dynamicsymbols('tau:2') # torques from the motors\n",
    "            \n",
    "q = Matrix(dynamicsymbols('theta:' + str(3))) # q is the state vector\n",
    "dq = q.diff() # and dq is the velocity"
   ]
  },
  {
   "cell_type": "markdown",
   "metadata": {},
   "source": [
    "## Dynamics Model Description"
   ]
  },
  {
   "cell_type": "code",
   "execution_count": 3,
   "metadata": {},
   "outputs": [],
   "source": [
    "N = ReferenceFrame('N') # Inertial Reference Frame\n",
    "O = Point('O') # Define a world coordinate origin\n",
    "O.set_vel(N, 0) # set the velocity of the origin to zero in the world frame"
   ]
  },
  {
   "cell_type": "code",
   "execution_count": 4,
   "metadata": {},
   "outputs": [],
   "source": [
    "forcelist  = []\n",
    "segments = []\n",
    "pivot = O # the first link is attached the origin. the rest are chained\n",
    "point_pairs = []\n",
    "\n",
    "x = symbols('x') # symbol for use in integration\n",
    "for i in xrange(3):\n",
    "    # create a reference frame for the pendulum\n",
    "    R = N.orientnew('R' + str(i), 'Axis', [q[i], N.z])\n",
    "    R.set_ang_vel(N, dq[i]*N.z) # set the angular velocity of R to dq\n",
    "\n",
    "    # define a point for the center of mass of the pendulum\n",
    "    C = pivot.locatenew('C' + str(i), R.x*l[i]/2.)\n",
    "    C.v2pt_theory(pivot, N, R) # solve for and set the velocity of C\n",
    "\n",
    "    # calculate the inertia (modeled as a uniform density stick rotating at the end)\n",
    "    # integrate the density (m/l) time the radius squared along the length of the segment\n",
    "    I_component = integrate(x**2 * m[i]/l[i], (x, 0, l[i]))\n",
    "    # the pendulum is a 3d model, but has no Ixx inertia because it's zero diamter\n",
    "    I = inertia(R, 0, I_component, I_component)\n",
    "\n",
    "    # and define a rigid body for the segment\n",
    "    segment = RigidBody('segment' + str(i), C, R, m[i], (I , pivot))\n",
    "\n",
    "    # calculate the potential energy of the segment\n",
    "    h = (C.pos_from(O)).express(N).args[0][0][0]\n",
    "    segment.potential_energy = m[i]*g*h\n",
    "    segments.append(segment)\n",
    "    \n",
    "    # the angular velocity of each pivot is the difference between it and it's mounting point\n",
    "    pivot_vel = dq[0] if i > 0 else 0\n",
    "    # the force of friction acts on the pendulums reference frame and is proportional to dq\n",
    "    force_of_friction = (R, - N.z * mu[i] * (dq[i] - pivot_vel))\n",
    "    forcelist.append(force_of_friction)\n",
    "    \n",
    "    # create a point for the end of the bar\n",
    "    E = pivot.locatenew('E' + str(i), R.x*l[i])\n",
    "    E.v2pt_theory(pivot, N, R) # solve for and set the velocity\n",
    "    point_pairs.append((pivot, E))\n",
    "    \n",
    "    # create a new pivot for the next two segments\n",
    "    if i == 0:\n",
    "        pivot = E\n",
    "    else:\n",
    "        forcelist.append([R, N.z * T[i-1]])"
   ]
  },
  {
   "cell_type": "code",
   "execution_count": 5,
   "metadata": {},
   "outputs": [],
   "source": [
    "L = Lagrangian(N, *segments) # create the lagrangian L = T - V\n",
    "lm = LagrangesMethod(L, [q], forcelist=forcelist, frame=N)\n",
    "le = lm.form_lagranges_equations()\n",
    "rhs = lm.rhs() # extract the right hand side"
   ]
  },
  {
   "cell_type": "markdown",
   "metadata": {},
   "source": [
    "## Simulation"
   ]
  },
  {
   "cell_type": "code",
   "execution_count": 6,
   "metadata": {
    "scrolled": false
   },
   "outputs": [],
   "source": [
    "class RHSWrapper():\n",
    "    def __init__(self, rhs, dynamics, params=[], values=[]):\n",
    "        self.rhs = rhs\n",
    "        self.dynamics = dynamics\n",
    "        self.params = params\n",
    "        self.values = values\n",
    "        \n",
    "        # substitute dummy variables into the equations of motion for later evaluation\n",
    "        self._dummys = [Dummy() for i in self.dynamics]\n",
    "        self._dummy_dict = dict(zip(self.dynamics, self._dummys))\n",
    "        self._dummy_rhs = msubs(self.rhs, self._dummy_dict)\n",
    "        \n",
    "        # create a function to evaluate the right hand side\n",
    "        self._rhs_func = lambdify(list(self._dummys) + list(self.params), self._dummy_rhs)\n",
    "    \n",
    "    def step(self, x, t, values=None):\n",
    "        v = self.values\n",
    "        \n",
    "        # use the input values if provided, else use the stored values\n",
    "        if values is not None:\n",
    "            # in this example, we've passed in all the torque values before doing the numerical integration,\n",
    "            # so we'll take the torque value at time t rounded to the nearest second.\n",
    "            input_values = values[int(np.floor(t))]\n",
    "            v[:input_values.shape[0]] = input_values\n",
    "            \n",
    "        assert len(v) == len(self.params)\n",
    "        \n",
    "        # the returned values must be a flat array for odient\n",
    "        args = np.hstack([x, v])\n",
    "        \n",
    "        return np.ravel(np.array(self._rhs_func(*args)))"
   ]
  },
  {
   "cell_type": "code",
   "execution_count": 7,
   "metadata": {},
   "outputs": [
    {
     "data": {
      "text/plain": [
       "<matplotlib.text.Text at 0x1083d9c90>"
      ]
     },
     "execution_count": 7,
     "metadata": {},
     "output_type": "execute_result"
    },
    {
     "data": {
      "image/png": "[encoded data removed]",
      "text/plain": [
       "<matplotlib.figure.Figure at 0x1082a2d90>"
      ]
     },
     "metadata": {},
     "output_type": "display_data"
    }
   ],
   "source": [
    "# create the list of input parameters\n",
    "params = list(T) + list(m) + list(l) + [g] + list(mu)\n",
    "\n",
    "# create values for the parameters\n",
    "motor_forces = np.ones_like(T) * 1.5\n",
    "masses = np.ones_like(m) * 1.\n",
    "lengths = np.ones_like(l) * 1.\n",
    "coefficients_of_friction = np.ones_like(mu) * 0.1\n",
    "\n",
    "# put all of those values into a list\n",
    "values = np.concatenate([motor_forces,\n",
    "                         masses,\n",
    "                         lengths,\n",
    "                         [9.8],\n",
    "                         coefficients_of_friction])\n",
    "\n",
    "# RHSWrapper handles evaluating the dynamics model \n",
    "f = RHSWrapper(rhs, list(q) + list(dq), params, values)\n",
    "\n",
    "# an array of forces to be applied to the system. This example gives the system a kick at 10 seconds\n",
    "input_forces = np.vstack([np.zeros([10,2]), np.ones([10,2])*[0.2,-0.1], np.zeros([30,2])]) \n",
    "\n",
    "ts = np.linspace(0, 30, 3000) # time steps (milliseconds)\n",
    "x0 = np.concatenate([np.ones(3) * np.pi, np.zeros(3)])  # initial condition\n",
    "\n",
    "# run the integration\n",
    "xs = odeint(f.step, x0, ts, args=(input_forces,)) # run the simulation\n",
    "\n",
    "for i in xrange(3):\n",
    "    plt.plot(ts, xs[:,i], label=\"Angle \" + str(i))\n",
    "    \n",
    "plt.legend()\n",
    "plt.title('Pendulum Angle')\n",
    "plt.xlabel('t')\n",
    "plt.ylabel('theta')"
   ]
  },
  {
   "cell_type": "markdown",
   "metadata": {},
   "source": [
    "## Animation"
   ]
  },
  {
   "cell_type": "code",
   "execution_count": 8,
   "metadata": {},
   "outputs": [],
   "source": [
    "class PendulumDrawer():\n",
    "    def __init__(self, point_pairs, inertial_frame, origin, dynamics, params, values=None):\n",
    "        self.expressions_raw = [self.get_expression_for_point_pair(p, inertial_frame, origin) for p in point_pairs]\n",
    "        self.dynamics = dynamics\n",
    "        self.params = params\n",
    "        self.expressions = None\n",
    "        if values is not None:\n",
    "            self.set_values(values)\n",
    "    \n",
    "    def get_coords(self, dynamics_values):\n",
    "        if self.expressions is None:\n",
    "            print 'Use PendulumDrawer.set_values() to assign values to the parameter list'\n",
    "            return []\n",
    "        \n",
    "        return np.hstack([msubs(e, dict(zip(self.dynamics, dynamics_values))) for e in self.expressions]).T\n",
    "        \n",
    "    def set_values(self, values):\n",
    "        assert len(values) == len(self.params)\n",
    "        print self.params\n",
    "        print values\n",
    "        self.expressions = [msubs(e, dict(zip(self.params, values))) for e in self.expressions_raw]\n",
    "        \n",
    "    def get_expression_for_point_pair(self, point_pair, inertial_frame, origin):\n",
    "        return Matrix([self.get_expression_for_point(point_pair[0], inertial_frame, origin),\n",
    "                       self.get_expression_for_point(point_pair[1], inertial_frame, origin)])\n",
    "    \n",
    "    def get_expression_for_point(self, point, inertial_frame, origin):\n",
    "        e = point.pos_from(origin).express(inertial_frame).args\n",
    "        return Matrix([0,0,0]) if len(e) == 0 else e[0][0]\n",
    "        \n",
    "    def get_segment_list(self, dynamics_values):\n",
    "        coords = self.get_coords(dynamics_values)\n",
    "        xs = coords[:,[0,3]]\n",
    "        ys = coords[:,[1,4]]\n",
    "        return np.stack([ys,xs], axis=1)"
   ]
  },
  {
   "cell_type": "code",
   "execution_count": null,
   "metadata": {},
   "outputs": [],
   "source": [
    "save_location = os.path.expanduser('~/Desktop/pendulum_vid')\n",
    "extension = 'png'\n",
    "\n",
    "def get_filename(num):\n",
    "    fnum = '{0:05d}'.format(num)\n",
    "    return '{}/{}.{}'.format(save_location, fnum, extension)\n",
    "\n",
    "duration = 20\n",
    "fps = 30\n",
    "\n",
    "pd = PendulumDrawer(point_pairs, N, O, list(q), params, values) # values\n",
    "skip = int(1000./fps)\n",
    "for frame in xrange(duration * fps):\n",
    "    axes = plt.gca()\n",
    "    axes.set_xlim([-2.5,2.5])\n",
    "    axes.set_ylim([-2.5,2.5])\n",
    "    for i,s in enumerate(pd.get_segment_list(xs[frame])):\n",
    "        plt.plot(*s, label=i)\n",
    "    plt.savefig(get_filename(frame))\n",
    "    plt.clf()"
   ]
  }
 ],
 "metadata": {
  "kernelspec": {
   "display_name": "Python 2",
   "language": "python",
   "name": "python2"
  },
  "language_info": {
   "codemirror_mode": {
    "name": "ipython",
    "version": 2
   },
   "file_extension": ".py",
   "mimetype": "text/x-python",
   "name": "python",
   "nbconvert_exporter": "python",
   "pygments_lexer": "ipython2",
   "version": "2.7.13"
  }
 },
 "nbformat": 4,
 "nbformat_minor": 2
}
