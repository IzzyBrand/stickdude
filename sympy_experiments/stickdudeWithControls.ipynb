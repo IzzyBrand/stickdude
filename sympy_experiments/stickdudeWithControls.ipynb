{
 "cells": [
  {
   "cell_type": "markdown",
   "metadata": {},
   "source": [
    "This notebook calculates the equations of motion for a multi-link compound pendulum (ie not just a point mass)\n",
    "and simulates the dynamics using `scipy.odient`. The pendulum is modeled as a uniform density rod with friction at the pivot. \n",
    "\n",
    "Matplotlib is used to generate images which are can then be combined into an animation.\n",
    "\n",
    "This notebook is loosely based on [this article](http://nbviewer.jupyter.org/github/pydy/pydy/blob/master/examples/differential_drive/Differential%20Drive.ipynb)\n",
    "and I looked at [the sympy test cases for more examples of using LagrangesMethod](https://github.com/sympy/sympy/blob/master/sympy/physics/mechanics/tests/test_lagrange.py)."
   ]
  },
  {
   "cell_type": "code",
   "execution_count": 1,
   "metadata": {},
   "outputs": [],
   "source": [
    "import matplotlib.pyplot as plt\n",
    "import numpy as np\n",
    "import os\n",
    "from scipy.integrate import odeint\n",
    "from sympy import symbols, lambdify, Dummy, integrate, Matrix, simplify\n",
    "from sympy.physics.mechanics import *\n",
    "\n",
    "%matplotlib inline\n",
    "init_vprinting()"
   ]
  },
  {
   "cell_type": "code",
   "execution_count": 2,
   "metadata": {},
   "outputs": [],
   "source": [
    "num_segments = 3\n",
    "m = symbols('m:' + str(num_segments))   # mass of the pendulum\n",
    "l = symbols('l:' + str(num_segments))   # length of the pendulum\n",
    "g = symbols('g')   # acceleration due to gravity\n",
    "mu = symbols('mu:' + str(num_segments)) # coefficient of friction\n",
    "\n",
    "q = Matrix(dynamicsymbols('theta:' + str(num_segments))) # q is the state vector\n",
    "dq = q.diff() # and dq is the velocity"
   ]
  },
  {
   "cell_type": "markdown",
   "metadata": {},
   "source": [
    "## Dynamics Model Description"
   ]
  },
  {
   "cell_type": "code",
   "execution_count": 3,
   "metadata": {},
   "outputs": [],
   "source": [
    "N = ReferenceFrame('N') # Inertial Reference Frame\n",
    "O = Point('O') # Define a world coordinate origin\n",
    "O.set_vel(N, 0) # set the velocity of the origin to zero in the world frame"
   ]
  },
  {
   "cell_type": "code",
   "execution_count": 4,
   "metadata": {},
   "outputs": [],
   "source": [
    "friction_forces  = []\n",
    "segments = []\n",
    "pivot = O # the first link is attached the origin. the rest are chained\n",
    "point_pairs = []\n",
    "\n",
    "x = symbols('x') # symbol for use in integration\n",
    "for i in xrange(num_segments):\n",
    "    # create a reference frame for the pendulum\n",
    "    R = N.orientnew('R' + str(i), 'Axis', [q[i], N.z])\n",
    "    R.set_ang_vel(N, dq[i]*N.z) # set the angular velocity of R to dq\n",
    "\n",
    "    # define a point for the center of mass of the pendulum\n",
    "    C = pivot.locatenew('C' + str(i), R.x*l[i]/2.)\n",
    "    C.v2pt_theory(pivot, N, R) # solve for and set the velocity of C\n",
    "\n",
    "    # calculate the inertia (modeled as a uniform density stick rotating at the end)\n",
    "    # integrate the density (m/l) time the radius squared along the length of the segment\n",
    "    I_component = integrate(x**2 * m[i]/l[i], (x, 0, l[i]))\n",
    "    # the pendulum is a 3d model, but has no Ixx inertia because it's zero diamter\n",
    "    I = inertia(R, 0, I_component, I_component)\n",
    "\n",
    "    # and define a rigid body for the segment\n",
    "    segment = RigidBody('segment' + str(i), C, R, m[i], (I , pivot))\n",
    "\n",
    "    # calculate the potential energy of the segment\n",
    "    h = (C.pos_from(O)).express(N).args[0][0][0]\n",
    "    segment.potential_energy = m[i]*g*h\n",
    "    segments.append(segment)\n",
    "    \n",
    "    # the angular velocity of each pivot is the difference between it and it's mounting point\n",
    "    pivot_vel = dq[0] if i > 0 else 0\n",
    "    # the force of friction acts on the pendulums reference frame and is proportional to dq\n",
    "    force_of_friction = (R, - N.z * mu[i] * (dq[i] - pivot_vel))\n",
    "    friction_forces.append(force_of_friction)\n",
    "    \n",
    "    # create a point for the end of the bar\n",
    "    E = pivot.locatenew('E' + str(i), R.x*l[i])\n",
    "    E.v2pt_theory(pivot, N, R) # solve for and set the velocity\n",
    "    point_pairs.append((pivot, E))\n",
    "    \n",
    "    # create a new pivot for the next two segments\n",
    "    if i == 0:\n",
    "        pivot = E"
   ]
  },
  {
   "cell_type": "code",
   "execution_count": 5,
   "metadata": {},
   "outputs": [],
   "source": [
    "L = Lagrangian(N, *segments) # create the lagrangian L = T - V\n",
    "lm = LagrangesMethod(L, [q], forcelist=friction_forces, frame=N)\n",
    "le = lm.form_lagranges_equations()\n",
    "rhs = lm.rhs() # extract the right hand side"
   ]
  },
  {
   "cell_type": "markdown",
   "metadata": {},
   "source": [
    "## Simulation"
   ]
  },
  {
   "cell_type": "code",
   "execution_count": 6,
   "metadata": {
    "scrolled": false
   },
   "outputs": [],
   "source": [
    "class RHSWrapper():\n",
    "    def __init__(self, rhs, dynamics, params=[], values=[]):\n",
    "        self.rhs = rhs\n",
    "        self.dynamics = dynamics\n",
    "        self.params = params\n",
    "        self.values = values\n",
    "        \n",
    "        # substitute dummy variables into the equations of motion for later evaluation\n",
    "        self._dummys = [Dummy() for i in self.dynamics]\n",
    "        self._dummy_dict = dict(zip(self.dynamics, self._dummys))\n",
    "        self._dummy_rhs = msubs(self.rhs, self._dummy_dict)\n",
    "        \n",
    "        # create a function to evaluate the right hand side\n",
    "        self._rhs_func = lambdify(list(self._dummys) + list(self.params), self._dummy_rhs)\n",
    "    \n",
    "    def step(self, x, t, values=None):\n",
    "        # use the input values if provided, else use the stored values\n",
    "        v = self.values if values is None else values\n",
    "        assert len(v) == len(self.params)\n",
    "        \n",
    "        # the returned values must be a flat array for odient\n",
    "        args = np.hstack([x, v])\n",
    "\n",
    "        return np.ravel(np.array(self._rhs_func(*args)))"
   ]
  },
  {
   "cell_type": "code",
   "execution_count": 11,
   "metadata": {},
   "outputs": [
    {
     "data": {
      "text/plain": [
       "<matplotlib.text.Text at 0x106be7c90>"
      ]
     },
     "execution_count": 11,
     "metadata": {},
     "output_type": "execute_result"
    },
    {
     "data": {
      "image/png": "[encoded data removed]",
      "text/plain": [
       "<matplotlib.figure.Figure at 0x106d26dd0>"
      ]
     },
     "metadata": {},
     "output_type": "display_data"
    }
   ],
   "source": [
    "masses = np.ones(num_segments) * 1.\n",
    "lengths = np.ones(num_segments) * 1.\n",
    "coefficients_of_friction = np.ones(num_segments) * 0.1\n",
    "values = np.concatenate([masses, lengths, [9.8], coefficients_of_friction])\n",
    "params = list(m) + list(l) + [g] + list(mu)\n",
    "# RHSWrapper handles evaluating the dynamics model \n",
    "f = RHSWrapper(rhs, list(q) + list(dq), params, values)\n",
    "\n",
    "ts = np.linspace(0, 30, 3000) # time steps (milliseconds)\n",
    "x0 = np.concatenate([np.arange(num_segments) * np.pi/4, np.zeros(num_segments)])  # initial condition\n",
    "xs = odeint(f.step, x0, ts) # run the simulation\n",
    "\n",
    "for i in xrange(num_segments):\n",
    "    plt.plot(ts, xs[:,i], label=\"Angle \" + str(i))\n",
    "plt.legend()\n",
    "plt.title('Pendulum Angle')\n",
    "plt.xlabel('t')\n",
    "plt.ylabel('theta')"
   ]
  },
  {
   "cell_type": "markdown",
   "metadata": {},
   "source": [
    "## Animation"
   ]
  },
  {
   "cell_type": "code",
   "execution_count": 12,
   "metadata": {},
   "outputs": [],
   "source": [
    "class PendulumDrawer():\n",
    "    def __init__(self, point_pairs, inertial_frame, origin, dynamics, params, values=None):\n",
    "        self.expressions_raw = [self.get_expression_for_point_pair(p, inertial_frame, origin) for p in point_pairs]\n",
    "        self.dynamics = dynamics\n",
    "        self.params = params\n",
    "        self.expressions = None\n",
    "        if values is not None:\n",
    "            self.set_values(values)\n",
    "    \n",
    "    def get_coords(self, dynamics_values):\n",
    "        if self.expressions is None:\n",
    "            print 'Use PendulumDrawer.set_values() to assign values to the parameter list'\n",
    "            return []\n",
    "        \n",
    "        return np.hstack([msubs(e, dict(zip(self.dynamics, dynamics_values))) for e in self.expressions]).T\n",
    "        \n",
    "    def set_values(self, values):\n",
    "        assert len(values) == len(self.params)\n",
    "        print self.params\n",
    "        print values\n",
    "        self.expressions = [msubs(e, dict(zip(self.params, values))) for e in self.expressions_raw]\n",
    "        \n",
    "    def get_expression_for_point_pair(self, point_pair, inertial_frame, origin):\n",
    "        return Matrix([self.get_expression_for_point(point_pair[0], inertial_frame, origin),\n",
    "                       self.get_expression_for_point(point_pair[1], inertial_frame, origin)])\n",
    "    \n",
    "    def get_expression_for_point(self, point, inertial_frame, origin):\n",
    "        e = point.pos_from(origin).express(inertial_frame).args\n",
    "        return Matrix([0,0,0]) if len(e) == 0 else e[0][0]\n",
    "        \n",
    "    def get_segment_list(self, dynamics_values):\n",
    "        coords = self.get_coords(dynamics_values)\n",
    "        xs = coords[:,[0,3]]\n",
    "        ys = coords[:,[1,4]]\n",
    "        return np.stack([ys,xs], axis=1)"
   ]
  },
  {
   "cell_type": "code",
   "execution_count": 13,
   "metadata": {},
   "outputs": [
    {
     "name": "stdout",
     "output_type": "stream",
     "text": [
      "[m0, m1, m2, l0, l1, l2, g, mu0, mu1, mu2]\n",
      "[ 1.   1.   1.   1.   1.   1.   9.8  0.1  0.1  0.1]\n"
     ]
    },
    {
     "data": {
      "text/plain": [
       "<matplotlib.figure.Figure at 0x103fb2590>"
      ]
     },
     "metadata": {},
     "output_type": "display_data"
    }
   ],
   "source": [
    "save_location = os.path.expanduser('~/Desktop/pendulum_vid')\n",
    "extension = 'png'\n",
    "\n",
    "def get_filename(num):\n",
    "    fnum = '{0:05d}'.format(num)\n",
    "    return '{}/{}.{}'.format(save_location, fnum, extension)\n",
    "\n",
    "duration = 20\n",
    "fps = 30\n",
    "\n",
    "pd = PendulumDrawer(point_pairs, N, O, list(q), params, values) # values\n",
    "skip = int(1000./fps)\n",
    "for frame in xrange(duration * fps):\n",
    "    axes = plt.gca()\n",
    "    axes.set_xlim([-2.5,2.5])\n",
    "    axes.set_ylim([-2.5,2.5])\n",
    "    for i,s in enumerate(pd.get_segment_list(xs[frame])):\n",
    "        plt.plot(*s, label=i)\n",
    "    plt.savefig(get_filename(frame))\n",
    "    plt.clf()"
   ]
  },
  {
   "cell_type": "code",
   "execution_count": null,
   "metadata": {},
   "outputs": [],
   "source": []
  },
  {
   "cell_type": "code",
   "execution_count": null,
   "metadata": {},
   "outputs": [],
   "source": []
  }
 ],
 "metadata": {
  "kernelspec": {
   "display_name": "Python 2",
   "language": "python",
   "name": "python2"
  },
  "language_info": {
   "codemirror_mode": {
    "name": "ipython",
    "version": 2
   },
   "file_extension": ".py",
   "mimetype": "text/x-python",
   "name": "python",
   "nbconvert_exporter": "python",
   "pygments_lexer": "ipython2",
   "version": "2.7.13"
  }
 },
 "nbformat": 4,
 "nbformat_minor": 2
}
